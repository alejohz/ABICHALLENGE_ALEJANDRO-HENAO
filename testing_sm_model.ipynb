{
 "cells": [
  {
   "cell_type": "code",
   "execution_count": 1,
   "metadata": {},
   "outputs": [
    {
     "name": "stdout",
     "output_type": "stream",
     "text": [
      "2022-05-01 16:28:26 Starting - Starting the training job...\n",
      "2022-05-01 16:28:54 Starting - Preparing the instances for trainingProfilerReport-1651422505: InProgress\n",
      ".........\n",
      "2022-05-01 16:30:34 Downloading - Downloading input data......\n",
      "2022-05-01 16:31:31 Training - Downloading the training image.....[2022-05-01 16:32:20.524 ip-10-0-214-202.ec2.internal:1 INFO utils.py:27] RULE_JOB_STOP_SIGNAL_FILENAME: None\n",
      "[2022-05-01:16:32:20:INFO] Imported framework sagemaker_xgboost_container.training\n",
      "[2022-05-01:16:32:20:INFO] No GPUs detected (normal if no gpus installed)\n",
      "[2022-05-01:16:32:20:INFO] Invoking user training script.\n",
      "[2022-05-01:16:32:21:INFO] Module script does not provide a setup.py. \n",
      "Generating setup.py\n",
      "[2022-05-01:16:32:21:INFO] Generating setup.cfg\n",
      "[2022-05-01:16:32:21:INFO] Generating MANIFEST.in\n",
      "[2022-05-01:16:32:21:INFO] Installing module with the following command:\n",
      "/miniconda3/bin/python3 -m pip install . \n",
      "Processing /opt/ml/code\n",
      "  Preparing metadata (setup.py): started\n",
      "  Preparing metadata (setup.py): finished with status 'done'\n",
      "Building wheels for collected packages: script\n",
      "  Building wheel for script (setup.py): started\n",
      "[2022-05-01 16:32:21.399 ip-10-0-215-149.ec2.internal:1 INFO utils.py:27] RULE_JOB_STOP_SIGNAL_FILENAME: None\n",
      "[2022-05-01:16:32:21:INFO] Imported framework sagemaker_xgboost_container.training\n",
      "[2022-05-01:16:32:21:INFO] No GPUs detected (normal if no gpus installed)\n",
      "[2022-05-01:16:32:21:INFO] Invoking user training script.\n",
      "[2022-05-01:16:32:22:INFO] Module script does not provide a setup.py. \n",
      "Generating setup.py\n",
      "[2022-05-01:16:32:22:INFO] Generating setup.cfg\n",
      "[2022-05-01:16:32:22:INFO] Generating MANIFEST.in\n",
      "[2022-05-01:16:32:22:INFO] Installing module with the following command:\n",
      "/miniconda3/bin/python3 -m pip install . \n",
      "Processing /opt/ml/code\n",
      "  Preparing metadata (setup.py): started\n",
      "  Preparing metadata (setup.py): finished with status 'done'\n",
      "Building wheels for collected packages: script\n",
      "  Building wheel for script (setup.py): started\n",
      "  Building wheel for script (setup.py): finished with status 'done'\n",
      "  Created wheel for script: filename=script-1.0.0-py2.py3-none-any.whl size=5783 sha256=0ba8f580564d4335e82abfc58bf3b100eff5059f60f66f4a55da624e1654a263\n",
      "  Stored in directory: /home/model-server/tmp/pip-ephem-wheel-cache-vp_xplx9/wheels/3e/0f/51/2f1df833dd0412c1bc2f5ee56baac195b5be563353d111dca6\n",
      "Successfully built script\n",
      "Installing collected packages: script\n",
      "Successfully installed script-1.0.0\n",
      "WARNING: Running pip as the 'root' user can result in broken permissions and conflicting behaviour with the system package manager. It is recommended to use a virtual environment instead: https://pip.pypa.io/warnings/venv\n",
      "[2022-05-01:16:32:27:INFO] No GPUs detected (normal if no gpus installed)\n",
      "[2022-05-01:16:32:27:INFO] Invoking user script\n",
      "Training Env:\n",
      "{\n",
      "    \"additional_framework_parameters\": {},\n",
      "    \"channel_input_dirs\": {\n",
      "        \"train\": \"/opt/ml/input/data/train\",\n",
      "        \"validation\": \"/opt/ml/input/data/validation\"\n",
      "    },\n",
      "    \"current_host\": \"algo-2\",\n",
      "    \"framework_module\": \"sagemaker_xgboost_container.training:main\",\n",
      "    \"hosts\": [\n",
      "        \"algo-1\",\n",
      "        \"algo-2\"\n",
      "    ],\n",
      "    \"hyperparameters\": {\n",
      "        \"eta\": \"0.3\",\n",
      "        \"gamma\": \"4\",\n",
      "        \"max_depth\": \"3\",\n",
      "        \"min_child_weight\": \"6\",\n",
      "        \"num_class\": \"3\",\n",
      "        \"num_round\": \"20\",\n",
      "        \"objective\": \"multi:softprob\",\n",
      "        \"subsample\": \"0.7\",\n",
      "        \"verbosity\": \"2\"\n",
      "    },\n",
      "    \"input_config_dir\": \"/opt/ml/input/config\",\n",
      "    \"input_data_config\": {\n",
      "        \"train\": {\n",
      "            \"ContentType\": \"libsvm\",\n",
      "            \"TrainingInputMode\": \"File\",\n",
      "            \"S3DistributionType\": \"FullyReplicated\",\n",
      "            \"RecordWrapperType\": \"None\"\n",
      "        },\n",
      "        \"validation\": {\n",
      "            \"ContentType\": \"libsvm\",\n",
      "            \"TrainingInputMode\": \"File\",\n",
      "            \"S3DistributionType\": \"FullyReplicated\",\n",
      "            \"RecordWrapperType\": \"None\"\n",
      "        }\n",
      "    },\n",
      "    \"input_dir\": \"/opt/ml/input\",\n",
      "    \"is_master\": false,\n",
      "    \"job_name\": \"sagemaker-xgboost-2022-05-01-16-28-24-343\",\n",
      "    \"log_level\": 20,\n",
      "    \"master_hostname\": \"algo-1\",\n",
      "    \"model_dir\": \"/opt/ml/model\",\n",
      "    \"module_dir\": \"s3://abi-datalake/sagemaker-xgboost-2022-05-01-16-28-24-343/source/sourcedir.tar.gz\",\n",
      "    \"module_name\": \"script\",\n",
      "    \"network_interface_name\": \"eth0\",\n",
      "    \"num_cpus\": 4,\n",
      "    \"num_gpus\": 0,\n",
      "    \"output_data_dir\": \"/opt/ml/output/data\",\n",
      "    \"output_dir\": \"/opt/ml/output\",\n",
      "    \"output_intermediate_dir\": \"/opt/ml/output/intermediate\",\n",
      "    \"resource_config\": {\n",
      "        \"current_host\": \"algo-2\",\n",
      "        \"current_instance_type\": \"ml.m4.xlarge\",\n",
      "        \"current_group_name\": \"homogeneousCluster\",\n",
      "        \"hosts\": [\n",
      "            \"algo-1\",\n",
      "            \"algo-2\"\n",
      "        ],\n",
      "        \"instance_groups\": [\n",
      "            {\n",
      "                \"instance_group_name\": \"homogeneousCluster\",\n",
      "                \"instance_type\": \"ml.m4.xlarge\",\n",
      "                \"hosts\": [\n",
      "                    \"algo-2\",\n",
      "                    \"algo-1\"\n",
      "                ]\n",
      "            }\n",
      "        ],\n",
      "        \"network_interface_name\": \"eth0\"\n",
      "    },\n",
      "    \"user_entry_point\": \"script.py\"\n",
      "}\n",
      "Environment variables:\n",
      "SM_HOSTS=[\"algo-1\",\"algo-2\"]\n",
      "SM_NETWORK_INTERFACE_NAME=eth0\n",
      "SM_HPS={\"eta\":\"0.3\",\"gamma\":\"4\",\"max_depth\":\"3\",\"min_child_weight\":\"6\",\"num_class\":\"3\",\"num_round\":\"20\",\"objective\":\"multi:softprob\",\"subsample\":\"0.7\",\"verbosity\":\"2\"}\n",
      "SM_USER_ENTRY_POINT=script.py\n",
      "SM_FRAMEWORK_PARAMS={}\n",
      "SM_RESOURCE_CONFIG={\"current_group_name\":\"homogeneousCluster\",\"current_host\":\"algo-2\",\"current_instance_type\":\"ml.m4.xlarge\",\"hosts\":[\"algo-1\",\"algo-2\"],\"instance_groups\":[{\"hosts\":[\"algo-2\",\"algo-1\"],\"instance_group_name\":\"homogeneousCluster\",\"instance_type\":\"ml.m4.xlarge\"}],\"network_interface_name\":\"eth0\"}\n",
      "SM_INPUT_DATA_CONFIG={\"train\":{\"ContentType\":\"libsvm\",\"RecordWrapperType\":\"None\",\"S3DistributionType\":\"FullyReplicated\",\"TrainingInputMode\":\"File\"},\"validation\":{\"ContentType\":\"libsvm\",\"RecordWrapperType\":\"None\",\"S3DistributionType\":\"FullyReplicated\",\"TrainingInputMode\":\"File\"}}\n",
      "SM_OUTPUT_DATA_DIR=/opt/ml/output/data\n",
      "SM_CHANNELS=[\"train\",\"validation\"]\n",
      "SM_CURRENT_HOST=algo-2\n",
      "SM_MODULE_NAME=script\n",
      "SM_LOG_LEVEL=20\n",
      "SM_FRAMEWORK_MODULE=sagemaker_xgboost_container.training:main\n",
      "SM_INPUT_DIR=/opt/ml/input\n",
      "SM_INPUT_CONFIG_DIR=/opt/ml/input/config\n",
      "SM_OUTPUT_DIR=/opt/ml/output\n",
      "SM_NUM_CPUS=4\n",
      "SM_NUM_GPUS=0\n",
      "SM_MODEL_DIR=/opt/ml/model\n",
      "SM_MODULE_DIR=s3://abi-datalake/sagemaker-xgboost-2022-05-01-16-28-24-343/source/sourcedir.tar.gz\n",
      "SM_TRAINING_ENV={\"additional_framework_parameters\":{},\"channel_input_dirs\":{\"train\":\"/opt/ml/input/data/train\",\"validation\":\"/opt/ml/input/data/validation\"},\"current_host\":\"algo-2\",\"framework_module\":\"sagemaker_xgboost_container.training:main\",\"hosts\":[\"algo-1\",\"algo-2\"],\"hyperparameters\":{\"eta\":\"0.3\",\"gamma\":\"4\",\"max_depth\":\"3\",\"min_child_weight\":\"6\",\"num_class\":\"3\",\"num_round\":\"20\",\"objective\":\"multi:softprob\",\"subsample\":\"0.7\",\"verbosity\":\"2\"},\"input_config_dir\":\"/opt/ml/input/config\",\"input_data_config\":{\"train\":{\"ContentType\":\"libsvm\",\"RecordWrapperType\":\"None\",\"S3DistributionType\":\"FullyReplicated\",\"TrainingInputMode\":\"File\"},\"validation\":{\"ContentType\":\"libsvm\",\"RecordWrapperType\":\"None\",\"S3DistributionType\":\"FullyReplicated\",\"TrainingInputMode\":\"File\"}},\"input_dir\":\"/opt/ml/input\",\"is_master\":false,\"job_name\":\"sagemaker-xgboost-2022-05-01-16-28-24-343\",\"log_level\":20,\"master_hostname\":\"algo-1\",\"model_dir\":\"/opt/ml/model\",\"module_dir\":\"s3://abi-datalake/sagemaker-xgboost-2022-05-01-16-28-24-343/source/sourcedir.tar.gz\",\"module_name\":\"script\",\"network_interface_name\":\"eth0\",\"num_cpus\":4,\"num_gpus\":0,\"output_data_dir\":\"/opt/ml/output/data\",\"output_dir\":\"/opt/ml/output\",\"output_intermediate_dir\":\"/opt/ml/output/intermediate\",\"resource_config\":{\"current_group_name\":\"homogeneousCluster\",\"current_host\":\"algo-2\",\"current_instance_type\":\"ml.m4.xlarge\",\"hosts\":[\"algo-1\",\"algo-2\"],\"instance_groups\":[{\"hosts\":[\"algo-2\",\"algo-1\"],\"instance_group_name\":\"homogeneousCluster\",\"instance_type\":\"ml.m4.xlarge\"}],\"network_interface_name\":\"eth0\"},\"user_entry_point\":\"script.py\"}\n",
      "SM_USER_ARGS=[\"--eta\",\"0.3\",\"--gamma\",\"4\",\"--max_depth\",\"3\",\"--min_child_weight\",\"6\",\"--num_class\",\"3\",\"--num_round\",\"20\",\"--objective\",\"multi:softprob\",\"--subsample\",\"0.7\",\"--verbosity\",\"2\"]\n",
      "SM_OUTPUT_INTERMEDIATE_DIR=/opt/ml/output/intermediate\n",
      "SM_CHANNEL_TRAIN=/opt/ml/input/data/train\n",
      "SM_CHANNEL_VALIDATION=/opt/ml/input/data/validation\n",
      "SM_HP_ETA=0.3\n",
      "SM_HP_GAMMA=4\n",
      "SM_HP_MAX_DEPTH=3\n",
      "SM_HP_MIN_CHILD_WEIGHT=6\n",
      "SM_HP_NUM_CLASS=3\n",
      "SM_HP_NUM_ROUND=20\n",
      "SM_HP_OBJECTIVE=multi:softprob\n",
      "SM_HP_SUBSAMPLE=0.7\n",
      "SM_HP_VERBOSITY=2\n",
      "PYTHONPATH=/miniconda3/bin:/:/miniconda3/lib/python/site-packages/xgboost/dmlc-core/tracker:/miniconda3/lib/python37.zip:/miniconda3/lib/python3.7:/miniconda3/lib/python3.7/lib-dynload:/miniconda3/lib/python3.7/site-packages\n",
      "Invoking script with the following command:\n",
      "/miniconda3/bin/python3 -m script --eta 0.3 --gamma 4 --max_depth 3 --min_child_weight 6 --num_class 3 --num_round 20 --objective multi:softprob --subsample 0.7 --verbosity 2\n",
      "  Building wheel for script (setup.py): finished with status 'done'\n",
      "  Created wheel for script: filename=script-1.0.0-py2.py3-none-any.whl size=5783 sha256=fd64158cf444bd607152367354983c005361b353d11883a7e0830669efdc6e0e\n",
      "  Stored in directory: /home/model-server/tmp/pip-ephem-wheel-cache-1f6tioit/wheels/3e/0f/51/2f1df833dd0412c1bc2f5ee56baac195b5be563353d111dca6\n",
      "Successfully built script\n",
      "Installing collected packages: script\n",
      "Successfully installed script-1.0.0\n",
      "WARNING: Running pip as the 'root' user can result in broken permissions and conflicting behaviour with the system package manager. It is recommended to use a virtual environment instead: https://pip.pypa.io/warnings/venv\n",
      "[2022-05-01:16:32:28:INFO] No GPUs detected (normal if no gpus installed)\n",
      "[2022-05-01:16:32:28:INFO] Invoking user script\n",
      "Training Env:\n",
      "{\n",
      "    \"additional_framework_parameters\": {},\n",
      "    \"channel_input_dirs\": {\n",
      "        \"train\": \"/opt/ml/input/data/train\",\n",
      "        \"validation\": \"/opt/ml/input/data/validation\"\n",
      "    },\n",
      "    \"current_host\": \"algo-1\",\n",
      "    \"framework_module\": \"sagemaker_xgboost_container.training:main\",\n",
      "    \"hosts\": [\n",
      "        \"algo-1\",\n",
      "        \"algo-2\"\n",
      "    ],\n",
      "    \"hyperparameters\": {\n",
      "        \"eta\": \"0.3\",\n",
      "        \"gamma\": \"4\",\n",
      "        \"max_depth\": \"3\",\n",
      "        \"min_child_weight\": \"6\",\n",
      "        \"num_class\": \"3\",\n",
      "        \"num_round\": \"20\",\n",
      "        \"objective\": \"multi:softprob\",\n",
      "        \"subsample\": \"0.7\",\n",
      "        \"verbosity\": \"2\"\n",
      "    },\n",
      "    \"input_config_dir\": \"/opt/ml/input/config\",\n",
      "    \"input_data_config\": {\n",
      "        \"train\": {\n",
      "            \"ContentType\": \"libsvm\",\n",
      "            \"TrainingInputMode\": \"File\",\n",
      "            \"S3DistributionType\": \"FullyReplicated\",\n",
      "            \"RecordWrapperType\": \"None\"\n",
      "        },\n",
      "        \"validation\": {\n",
      "            \"ContentType\": \"libsvm\",\n",
      "            \"TrainingInputMode\": \"File\",\n",
      "            \"S3DistributionType\": \"FullyReplicated\",\n",
      "            \"RecordWrapperType\": \"None\"\n",
      "        }\n",
      "    },\n",
      "    \"input_dir\": \"/opt/ml/input\",\n",
      "    \"is_master\": true,\n",
      "    \"job_name\": \"sagemaker-xgboost-2022-05-01-16-28-24-343\",\n",
      "    \"log_level\": 20,\n",
      "    \"master_hostname\": \"algo-1\",\n",
      "    \"model_dir\": \"/opt/ml/model\",\n",
      "    \"module_dir\": \"s3://abi-datalake/sagemaker-xgboost-2022-05-01-16-28-24-343/source/sourcedir.tar.gz\",\n",
      "    \"module_name\": \"script\",\n",
      "    \"network_interface_name\": \"eth0\",\n",
      "    \"num_cpus\": 4,\n",
      "    \"num_gpus\": 0,\n",
      "    \"output_data_dir\": \"/opt/ml/output/data\",\n",
      "    \"output_dir\": \"/opt/ml/output\",\n",
      "    \"output_intermediate_dir\": \"/opt/ml/output/intermediate\",\n",
      "    \"resource_config\": {\n",
      "        \"current_host\": \"algo-1\",\n",
      "        \"current_instance_type\": \"ml.m4.xlarge\",\n",
      "        \"current_group_name\": \"homogeneousCluster\",\n",
      "        \"hosts\": [\n",
      "            \"algo-1\",\n",
      "            \"algo-2\"\n",
      "        ],\n",
      "        \"instance_groups\": [\n",
      "            {\n",
      "                \"instance_group_name\": \"homogeneousCluster\",\n",
      "                \"instance_type\": \"ml.m4.xlarge\",\n",
      "                \"hosts\": [\n",
      "                    \"algo-2\",\n",
      "                    \"algo-1\"\n",
      "                ]\n",
      "            }\n",
      "        ],\n",
      "        \"network_interface_name\": \"eth0\"\n",
      "    },\n",
      "    \"user_entry_point\": \"script.py\"\n",
      "}\n",
      "Environment variables:\n",
      "SM_HOSTS=[\"algo-1\",\"algo-2\"]\n",
      "SM_NETWORK_INTERFACE_NAME=eth0\n",
      "SM_HPS={\"eta\":\"0.3\",\"gamma\":\"4\",\"max_depth\":\"3\",\"min_child_weight\":\"6\",\"num_class\":\"3\",\"num_round\":\"20\",\"objective\":\"multi:softprob\",\"subsample\":\"0.7\",\"verbosity\":\"2\"}\n",
      "SM_USER_ENTRY_POINT=script.py\n",
      "SM_FRAMEWORK_PARAMS={}\n",
      "SM_RESOURCE_CONFIG={\"current_group_name\":\"homogeneousCluster\",\"current_host\":\"algo-1\",\"current_instance_type\":\"ml.m4.xlarge\",\"hosts\":[\"algo-1\",\"algo-2\"],\"instance_groups\":[{\"hosts\":[\"algo-2\",\"algo-1\"],\"instance_group_name\":\"homogeneousCluster\",\"instance_type\":\"ml.m4.xlarge\"}],\"network_interface_name\":\"eth0\"}\n",
      "SM_INPUT_DATA_CONFIG={\"train\":{\"ContentType\":\"libsvm\",\"RecordWrapperType\":\"None\",\"S3DistributionType\":\"FullyReplicated\",\"TrainingInputMode\":\"File\"},\"validation\":{\"ContentType\":\"libsvm\",\"RecordWrapperType\":\"None\",\"S3DistributionType\":\"FullyReplicated\",\"TrainingInputMode\":\"File\"}}\n",
      "SM_OUTPUT_DATA_DIR=/opt/ml/output/data\n",
      "SM_CHANNELS=[\"train\",\"validation\"]\n",
      "SM_CURRENT_HOST=algo-1\n",
      "SM_MODULE_NAME=script\n",
      "SM_LOG_LEVEL=20\n",
      "SM_FRAMEWORK_MODULE=sagemaker_xgboost_container.training:main\n",
      "SM_INPUT_DIR=/opt/ml/input\n",
      "SM_INPUT_CONFIG_DIR=/opt/ml/input/config\n",
      "SM_OUTPUT_DIR=/opt/ml/output\n",
      "SM_NUM_CPUS=4\n",
      "SM_NUM_GPUS=0\n",
      "SM_MODEL_DIR=/opt/ml/model\n",
      "SM_MODULE_DIR=s3://abi-datalake/sagemaker-xgboost-2022-05-01-16-28-24-343/source/sourcedir.tar.gz\n",
      "SM_TRAINING_ENV={\"additional_framework_parameters\":{},\"channel_input_dirs\":{\"train\":\"/opt/ml/input/data/train\",\"validation\":\"/opt/ml/input/data/validation\"},\"current_host\":\"algo-1\",\"framework_module\":\"sagemaker_xgboost_container.training:main\",\"hosts\":[\"algo-1\",\"algo-2\"],\"hyperparameters\":{\"eta\":\"0.3\",\"gamma\":\"4\",\"max_depth\":\"3\",\"min_child_weight\":\"6\",\"num_class\":\"3\",\"num_round\":\"20\",\"objective\":\"multi:softprob\",\"subsample\":\"0.7\",\"verbosity\":\"2\"},\"input_config_dir\":\"/opt/ml/input/config\",\"input_data_config\":{\"train\":{\"ContentType\":\"libsvm\",\"RecordWrapperType\":\"None\",\"S3DistributionType\":\"FullyReplicated\",\"TrainingInputMode\":\"File\"},\"validation\":{\"ContentType\":\"libsvm\",\"RecordWrapperType\":\"None\",\"S3DistributionType\":\"FullyReplicated\",\"TrainingInputMode\":\"File\"}},\"input_dir\":\"/opt/ml/input\",\"is_master\":true,\"job_name\":\"sagemaker-xgboost-2022-05-01-16-28-24-343\",\"log_level\":20,\"master_hostname\":\"algo-1\",\"model_dir\":\"/opt/ml/model\",\"module_dir\":\"s3://abi-datalake/sagemaker-xgboost-2022-05-01-16-28-24-343/source/sourcedir.tar.gz\",\"module_name\":\"script\",\"network_interface_name\":\"eth0\",\"num_cpus\":4,\"num_gpus\":0,\"output_data_dir\":\"/opt/ml/output/data\",\"output_dir\":\"/opt/ml/output\",\"output_intermediate_dir\":\"/opt/ml/output/intermediate\",\"resource_config\":{\"current_group_name\":\"homogeneousCluster\",\"current_host\":\"algo-1\",\"current_instance_type\":\"ml.m4.xlarge\",\"hosts\":[\"algo-1\",\"algo-2\"],\"instance_groups\":[{\"hosts\":[\"algo-2\",\"algo-1\"],\"instance_group_name\":\"homogeneousCluster\",\"instance_type\":\"ml.m4.xlarge\"}],\"network_interface_name\":\"eth0\"},\"user_entry_point\":\"script.py\"}\n",
      "SM_USER_ARGS=[\"--eta\",\"0.3\",\"--gamma\",\"4\",\"--max_depth\",\"3\",\"--min_child_weight\",\"6\",\"--num_class\",\"3\",\"--num_round\",\"20\",\"--objective\",\"multi:softprob\",\"--subsample\",\"0.7\",\"--verbosity\",\"2\"]\n",
      "SM_OUTPUT_INTERMEDIATE_DIR=/opt/ml/output/intermediate\n",
      "SM_CHANNEL_TRAIN=/opt/ml/input/data/train\n",
      "SM_CHANNEL_VALIDATION=/opt/ml/input/data/validation\n",
      "SM_HP_ETA=0.3\n",
      "SM_HP_GAMMA=4\n",
      "SM_HP_MAX_DEPTH=3\n",
      "SM_HP_MIN_CHILD_WEIGHT=6\n",
      "SM_HP_NUM_CLASS=3\n",
      "SM_HP_NUM_ROUND=20\n",
      "SM_HP_OBJECTIVE=multi:softprob\n",
      "SM_HP_SUBSAMPLE=0.7\n",
      "SM_HP_VERBOSITY=2\n",
      "PYTHONPATH=/miniconda3/bin:/:/miniconda3/lib/python/site-packages/xgboost/dmlc-core/tracker:/miniconda3/lib/python37.zip:/miniconda3/lib/python3.7:/miniconda3/lib/python3.7/lib-dynload:/miniconda3/lib/python3.7/site-packages\n",
      "Invoking script with the following command:\n",
      "/miniconda3/bin/python3 -m script --eta 0.3 --gamma 4 --max_depth 3 --min_child_weight 6 --num_class 3 --num_round 20 --objective multi:softprob --subsample 0.7 --verbosity 2\n",
      "[16:32:31] task NULL got new rank 1\n",
      "[16:32:31] task NULL got new rank 0\n",
      "[16:32:34] task NULL got new rank 1\n",
      "[16:32:34] INFO: ../src/gbm/gbtree.cc:138: Tree method is automatically selected to be 'approx' for distributed training.\n",
      "[16:32:34] INFO: ../src/tree/updater_prune.cc:101: tree pruning end, 2 extra nodes, 0 pruned nodes, max_depth=1\n",
      "[16:32:35] INFO: ../src/tree/updater_prune.cc:101: tree pruning end, 4 extra nodes, 2 pruned nodes, max_depth=2\n",
      "[16:32:35] INFO: ../src/tree/updater_prune.cc:101: tree pruning end, 2 extra nodes, 4 pruned nodes, max_depth=1\n",
      "[16:32:35] WARNING: ../src/learner.cc:1115: Starting in XGBoost 1.3.0, the default evaluation metric used with the objective 'multi:softprob' was changed from 'merror' to 'mlogloss'. Explicitly set eval_metric if you'd like to restore the old behavior.\n",
      "[16:32:35] INFO: ../src/gbm/gbtree.cc:138: Tree method is automatically selected to be 'approx' for distributed training.\n",
      "[16:32:34] task NULL got new rank 0\n",
      "[16:32:34] INFO: ../src/gbm/gbtree.cc:138: Tree method is automatically selected to be 'approx' for distributed training.\n",
      "[16:32:34] INFO: ../src/tree/updater_prune.cc:101: tree pruning end, 2 extra nodes, 0 pruned nodes, max_depth=1\n",
      "[16:32:35] INFO: ../src/tree/updater_prune.cc:101: tree pruning end, 4 extra nodes, 2 pruned nodes, max_depth=2\n",
      "[16:32:35] INFO: ../src/tree/updater_prune.cc:101: tree pruning end, 2 extra nodes, 4 pruned nodes, max_depth=1\n",
      "[16:32:35] WARNING: ../src/learner.cc:1115: Starting in XGBoost 1.3.0, the default evaluation metric used with the objective 'multi:softprob' was changed from 'merror' to 'mlogloss'. Explicitly set eval_metric if you'd like to restore the old behavior.\n",
      "[16:32:35] INFO: ../src/gbm/gbtree.cc:138: Tree method is automatically selected to be 'approx' for distributed training.\n",
      "[16:32:35] INFO: ../src/tree/updater_prune.cc:101: tree pruning end, 2 extra nodes, 0 pruned nodes, max_depth=1\n",
      "[16:32:35] INFO: ../src/tree/updater_prune.cc:101: tree pruning end, 2 extra nodes, 0 pruned nodes, max_depth=1\n",
      "[16:32:35] INFO: ../src/tree/updater_prune.cc:101: tree pruning end, 4 extra nodes, 4 pruned nodes, max_depth=2\n",
      "[16:32:35] INFO: ../src/tree/updater_prune.cc:101: tree pruning end, 2 extra nodes, 4 pruned nodes, max_depth=1\n",
      "[16:32:35] INFO: ../src/gbm/gbtree.cc:138: Tree method is automatically selected to be 'approx' for distributed training.\n",
      "[16:32:35] INFO: ../src/tree/updater_prune.cc:101: tree pruning end, 2 extra nodes, 0 pruned nodes, max_depth=1\n",
      "[16:32:35] INFO: ../src/tree/updater_prune.cc:101: tree pruning end, 4 extra nodes, 4 pruned nodes, max_depth=2\n",
      "[16:32:35] INFO: ../src/tree/updater_prune.cc:101: tree pruning end, 2 extra nodes, 2 pruned nodes, max_depth=1\n",
      "[16:32:36] INFO: ../src/gbm/gbtree.cc:138: Tree method is automatically selected to be 'approx' for distributed training.\n",
      "[16:32:36] INFO: ../src/tree/updater_prune.cc:101: tree pruning end, 2 extra nodes, 0 pruned nodes, max_depth=1\n",
      "[16:32:36] INFO: ../src/tree/updater_prune.cc:101: tree pruning end, 4 extra nodes, 2 pruned nodes, max_depth=2\n",
      "[16:32:35] INFO: ../src/tree/updater_prune.cc:101: tree pruning end, 4 extra nodes, 4 pruned nodes, max_depth=2\n",
      "[16:32:35] INFO: ../src/tree/updater_prune.cc:101: tree pruning end, 2 extra nodes, 4 pruned nodes, max_depth=1\n",
      "[16:32:35] INFO: ../src/gbm/gbtree.cc:138: Tree method is automatically selected to be 'approx' for distributed training.\n",
      "[16:32:35] INFO: ../src/tree/updater_prune.cc:101: tree pruning end, 2 extra nodes, 0 pruned nodes, max_depth=1\n",
      "[16:32:35] INFO: ../src/tree/updater_prune.cc:101: tree pruning end, 4 extra nodes, 4 pruned nodes, max_depth=2\n",
      "[16:32:35] INFO: ../src/tree/updater_prune.cc:101: tree pruning end, 2 extra nodes, 2 pruned nodes, max_depth=1\n",
      "[16:32:36] INFO: ../src/gbm/gbtree.cc:138: Tree method is automatically selected to be 'approx' for distributed training.\n",
      "[16:32:36] INFO: ../src/tree/updater_prune.cc:101: tree pruning end, 2 extra nodes, 0 pruned nodes, max_depth=1\n",
      "[16:32:36] INFO: ../src/tree/updater_prune.cc:101: tree pruning end, 4 extra nodes, 2 pruned nodes, max_depth=2\n",
      "[16:32:36] INFO: ../src/tree/updater_prune.cc:101: tree pruning end, 2 extra nodes, 2 pruned nodes, max_depth=1\n",
      "\n",
      "2022-05-01 16:32:46 Uploading - Uploading generated training model[16:32:36] INFO: ../src/tree/updater_prune.cc:101: tree pruning end, 2 extra nodes, 2 pruned nodes, max_depth=1\n",
      "[16:32:36] INFO: ../src/gbm/gbtree.cc:138: Tree method is automatically selected to be 'approx' for distributed training.\n",
      "[16:32:36] INFO: ../src/tree/updater_prune.cc:101: tree pruning end, 2 extra nodes, 0 pruned nodes, max_depth=1\n",
      "[16:32:36] INFO: ../src/tree/updater_prune.cc:101: tree pruning end, 4 extra nodes, 4 pruned nodes, max_depth=2\n",
      "[16:32:36] INFO: ../src/tree/updater_prune.cc:101: tree pruning end, 2 extra nodes, 2 pruned nodes, max_depth=1\n",
      "[16:32:36] INFO: ../src/gbm/gbtree.cc:138: Tree method is automatically selected to be 'approx' for distributed training.\n",
      "[16:32:36] INFO: ../src/tree/updater_prune.cc:101: tree pruning end, 2 extra nodes, 0 pruned nodes, max_depth=1\n",
      "[16:32:36] INFO: ../src/tree/updater_prune.cc:101: tree pruning end, 4 extra nodes, 2 pruned nodes, max_depth=2\n",
      "[16:32:37] INFO: ../src/tree/updater_prune.cc:101: tree pruning end, 2 extra nodes, 2 pruned nodes, max_depth=1\n",
      "[16:32:37] INFO: ../src/gbm/gbtree.cc:138: Tree method is automatically selected to be 'approx' for distributed training.\n",
      "[16:32:37] INFO: ../src/tree/updater_prune.cc:101: tree pruning end, 2 extra nodes, 0 pruned nodes, max_depth=1\n",
      "[16:32:37] INFO: ../src/tree/updater_prune.cc:101: tree pruning end, 4 extra nodes, 2 pruned nodes, max_depth=2\n",
      "[16:32:36] INFO: ../src/gbm/gbtree.cc:138: Tree method is automatically selected to be 'approx' for distributed training.\n",
      "[16:32:36] INFO: ../src/tree/updater_prune.cc:101: tree pruning end, 2 extra nodes, 0 pruned nodes, max_depth=1\n",
      "[16:32:36] INFO: ../src/tree/updater_prune.cc:101: tree pruning end, 4 extra nodes, 4 pruned nodes, max_depth=2\n",
      "[16:32:36] INFO: ../src/tree/updater_prune.cc:101: tree pruning end, 2 extra nodes, 2 pruned nodes, max_depth=1\n",
      "[16:32:36] INFO: ../src/gbm/gbtree.cc:138: Tree method is automatically selected to be 'approx' for distributed training.\n",
      "[16:32:36] INFO: ../src/tree/updater_prune.cc:101: tree pruning end, 2 extra nodes, 0 pruned nodes, max_depth=1\n",
      "[16:32:36] INFO: ../src/tree/updater_prune.cc:101: tree pruning end, 4 extra nodes, 2 pruned nodes, max_depth=2\n",
      "[16:32:37] INFO: ../src/tree/updater_prune.cc:101: tree pruning end, 2 extra nodes, 2 pruned nodes, max_depth=1\n",
      "[16:32:37] INFO: ../src/gbm/gbtree.cc:138: Tree method is automatically selected to be 'approx' for distributed training.\n",
      "[16:32:37] INFO: ../src/tree/updater_prune.cc:101: tree pruning end, 2 extra nodes, 0 pruned nodes, max_depth=1\n",
      "[16:32:37] INFO: ../src/tree/updater_prune.cc:101: tree pruning end, 4 extra nodes, 2 pruned nodes, max_depth=2\n",
      "[16:32:37] INFO: ../src/tree/updater_prune.cc:101: tree pruning end, 2 extra nodes, 4 pruned nodes, max_depth=1\n",
      "[16:32:37] INFO: ../src/tree/updater_prune.cc:101: tree pruning end, 2 extra nodes, 4 pruned nodes, max_depth=1\n",
      "[16:32:37] INFO: ../src/gbm/gbtree.cc:138: Tree method is automatically selected to be 'approx' for distributed training.\n",
      "[16:32:37] INFO: ../src/tree/updater_prune.cc:101: tree pruning end, 2 extra nodes, 0 pruned nodes, max_depth=1\n",
      "[16:32:37] INFO: ../src/tree/updater_prune.cc:101: tree pruning end, 0 extra nodes, 6 pruned nodes, max_depth=0\n",
      "[16:32:37] INFO: ../src/tree/updater_prune.cc:101: tree pruning end, 2 extra nodes, 2 pruned nodes, max_depth=1\n",
      "[16:32:37] INFO: ../src/gbm/gbtree.cc:138: Tree method is automatically selected to be 'approx' for distributed training.\n",
      "[16:32:37] INFO: ../src/tree/updater_prune.cc:101: tree pruning end, 2 extra nodes, 0 pruned nodes, max_depth=1\n",
      "[16:32:37] INFO: ../src/tree/updater_prune.cc:101: tree pruning end, 0 extra nodes, 4 pruned nodes, max_depth=0\n",
      "[16:32:38] INFO: ../src/tree/updater_prune.cc:101: tree pruning end, 2 extra nodes, 0 pruned nodes, max_depth=1\n",
      "[16:32:38] INFO: ../src/gbm/gbtree.cc:138: Tree method is automatically selected to be 'approx' for distributed training.\n",
      "[16:32:38] INFO: ../src/tree/updater_prune.cc:101: tree pruning end, 0 extra nodes, 2 pruned nodes, max_depth=0\n",
      "[16:32:37] INFO: ../src/gbm/gbtree.cc:138: Tree method is automatically selected to be 'approx' for distributed training.\n",
      "[16:32:37] INFO: ../src/tree/updater_prune.cc:101: tree pruning end, 2 extra nodes, 0 pruned nodes, max_depth=1\n",
      "[16:32:37] INFO: ../src/tree/updater_prune.cc:101: tree pruning end, 0 extra nodes, 6 pruned nodes, max_depth=0\n",
      "[16:32:37] INFO: ../src/tree/updater_prune.cc:101: tree pruning end, 2 extra nodes, 2 pruned nodes, max_depth=1\n",
      "[16:32:37] INFO: ../src/gbm/gbtree.cc:138: Tree method is automatically selected to be 'approx' for distributed training.\n",
      "[16:32:37] INFO: ../src/tree/updater_prune.cc:101: tree pruning end, 2 extra nodes, 0 pruned nodes, max_depth=1\n",
      "[16:32:37] INFO: ../src/tree/updater_prune.cc:101: tree pruning end, 0 extra nodes, 4 pruned nodes, max_depth=0\n",
      "[16:32:38] INFO: ../src/tree/updater_prune.cc:101: tree pruning end, 2 extra nodes, 0 pruned nodes, max_depth=1\n",
      "[16:32:38] INFO: ../src/gbm/gbtree.cc:138: Tree method is automatically selected to be 'approx' for distributed training.\n",
      "[16:32:38] INFO: ../src/tree/updater_prune.cc:101: tree pruning end, 0 extra nodes, 2 pruned nodes, max_depth=0\n",
      "[16:32:38] INFO: ../src/tree/updater_prune.cc:101: tree pruning end, 0 extra nodes, 4 pruned nodes, max_depth=0\n",
      "[16:32:38] INFO: ../src/tree/updater_prune.cc:101: tree pruning end, 0 extra nodes, 4 pruned nodes, max_depth=0\n",
      "[16:32:38] INFO: ../src/tree/updater_prune.cc:101: tree pruning end, 2 extra nodes, 2 pruned nodes, max_depth=1\n",
      "[16:32:38] INFO: ../src/gbm/gbtree.cc:138: Tree method is automatically selected to be 'approx' for distributed training.\n",
      "[16:32:38] INFO: ../src/tree/updater_prune.cc:101: tree pruning end, 2 extra nodes, 0 pruned nodes, max_depth=1\n",
      "[16:32:38] INFO: ../src/tree/updater_prune.cc:101: tree pruning end, 0 extra nodes, 4 pruned nodes, max_depth=0\n",
      "[16:32:38] INFO: ../src/tree/updater_prune.cc:101: tree pruning end, 0 extra nodes, 2 pruned nodes, max_depth=0\n",
      "[16:32:38] INFO: ../src/gbm/gbtree.cc:138: Tree method is automatically selected to be 'approx' for distributed training.\n",
      "[16:32:38] INFO: ../src/tree/updater_prune.cc:101: tree pruning end, 0 extra nodes, 2 pruned nodes, max_depth=0\n",
      "[16:32:38] INFO: ../src/tree/updater_prune.cc:101: tree pruning end, 0 extra nodes, 4 pruned nodes, max_depth=0\n",
      "[16:32:39] INFO: ../src/tree/updater_prune.cc:101: tree pruning end, 2 extra nodes, 0 pruned nodes, max_depth=1\n",
      "[16:32:39] INFO: ../src/gbm/gbtree.cc:138: Tree method is automatically selected to be 'approx' for distributed training.\n",
      "[16:32:39] INFO: ../src/tree/updater_prune.cc:101: tree pruning end, 0 extra nodes, 2 pruned nodes, max_depth=0\n",
      "[16:32:39] INFO: ../src/tree/updater_prune.cc:101: tree pruning end, 0 extra nodes, 4 pruned nodes, max_depth=0\n",
      "[16:32:38] INFO: ../src/tree/updater_prune.cc:101: tree pruning end, 2 extra nodes, 2 pruned nodes, max_depth=1\n",
      "[16:32:38] INFO: ../src/gbm/gbtree.cc:138: Tree method is automatically selected to be 'approx' for distributed training.\n",
      "[16:32:38] INFO: ../src/tree/updater_prune.cc:101: tree pruning end, 2 extra nodes, 0 pruned nodes, max_depth=1\n",
      "[16:32:38] INFO: ../src/tree/updater_prune.cc:101: tree pruning end, 0 extra nodes, 4 pruned nodes, max_depth=0\n",
      "[16:32:38] INFO: ../src/tree/updater_prune.cc:101: tree pruning end, 0 extra nodes, 2 pruned nodes, max_depth=0\n",
      "[16:32:38] INFO: ../src/gbm/gbtree.cc:138: Tree method is automatically selected to be 'approx' for distributed training.\n",
      "[16:32:38] INFO: ../src/tree/updater_prune.cc:101: tree pruning end, 0 extra nodes, 2 pruned nodes, max_depth=0\n",
      "[16:32:38] INFO: ../src/tree/updater_prune.cc:101: tree pruning end, 0 extra nodes, 4 pruned nodes, max_depth=0\n",
      "[16:32:39] INFO: ../src/tree/updater_prune.cc:101: tree pruning end, 2 extra nodes, 0 pruned nodes, max_depth=1\n",
      "[16:32:39] INFO: ../src/gbm/gbtree.cc:138: Tree method is automatically selected to be 'approx' for distributed training.\n",
      "[16:32:39] INFO: ../src/tree/updater_prune.cc:101: tree pruning end, 0 extra nodes, 2 pruned nodes, max_depth=0\n",
      "[16:32:39] INFO: ../src/tree/updater_prune.cc:101: tree pruning end, 0 extra nodes, 4 pruned nodes, max_depth=0\n",
      "[16:32:39] INFO: ../src/tree/updater_prune.cc:101: tree pruning end, 0 extra nodes, 2 pruned nodes, max_depth=0\n",
      "[16:32:39] INFO: ../src/tree/updater_prune.cc:101: tree pruning end, 0 extra nodes, 2 pruned nodes, max_depth=0\n",
      "[16:32:39] INFO: ../src/gbm/gbtree.cc:138: Tree method is automatically selected to be 'approx' for distributed training.\n",
      "[16:32:39] INFO: ../src/tree/updater_prune.cc:101: tree pruning end, 0 extra nodes, 2 pruned nodes, max_depth=0\n",
      "[16:32:39] INFO: ../src/tree/updater_prune.cc:101: tree pruning end, 0 extra nodes, 4 pruned nodes, max_depth=0\n",
      "[16:32:39] INFO: ../src/tree/updater_prune.cc:101: tree pruning end, 0 extra nodes, 2 pruned nodes, max_depth=0\n",
      "[16:32:39] INFO: ../src/gbm/gbtree.cc:138: Tree method is automatically selected to be 'approx' for distributed training.\n",
      "[16:32:39] INFO: ../src/tree/updater_prune.cc:101: tree pruning end, 0 extra nodes, 2 pruned nodes, max_depth=0\n",
      "[16:32:39] INFO: ../src/tree/updater_prune.cc:101: tree pruning end, 0 extra nodes, 4 pruned nodes, max_depth=0\n",
      "[16:32:40] INFO: ../src/tree/updater_prune.cc:101: tree pruning end, 0 extra nodes, 2 pruned nodes, max_depth=0\n",
      "[16:32:40] INFO: ../src/gbm/gbtree.cc:138: Tree method is automatically selected to be 'approx' for distributed training.\n",
      "[16:32:40] INFO: ../src/tree/updater_prune.cc:101: tree pruning end, 0 extra nodes, 2 pruned nodes, max_depth=0\n",
      "[16:32:39] INFO: ../src/gbm/gbtree.cc:138: Tree method is automatically selected to be 'approx' for distributed training.\n",
      "[16:32:39] INFO: ../src/tree/updater_prune.cc:101: tree pruning end, 0 extra nodes, 2 pruned nodes, max_depth=0\n",
      "[16:32:39] INFO: ../src/tree/updater_prune.cc:101: tree pruning end, 0 extra nodes, 4 pruned nodes, max_depth=0\n",
      "[16:32:39] INFO: ../src/tree/updater_prune.cc:101: tree pruning end, 0 extra nodes, 2 pruned nodes, max_depth=0\n",
      "[16:32:39] INFO: ../src/gbm/gbtree.cc:138: Tree method is automatically selected to be 'approx' for distributed training.\n",
      "[16:32:39] INFO: ../src/tree/updater_prune.cc:101: tree pruning end, 0 extra nodes, 2 pruned nodes, max_depth=0\n",
      "[16:32:39] INFO: ../src/tree/updater_prune.cc:101: tree pruning end, 0 extra nodes, 4 pruned nodes, max_depth=0\n",
      "[16:32:40] INFO: ../src/tree/updater_prune.cc:101: tree pruning end, 0 extra nodes, 2 pruned nodes, max_depth=0\n",
      "[16:32:40] INFO: ../src/gbm/gbtree.cc:138: Tree method is automatically selected to be 'approx' for distributed training.\n",
      "[16:32:40] INFO: ../src/tree/updater_prune.cc:101: tree pruning end, 0 extra nodes, 2 pruned nodes, max_depth=0\n",
      "[16:32:40] INFO: ../src/tree/updater_prune.cc:101: tree pruning end, 0 extra nodes, 4 pruned nodes, max_depth=0\n",
      "[16:32:40] INFO: ../src/tree/updater_prune.cc:101: tree pruning end, 0 extra nodes, 4 pruned nodes, max_depth=0\n",
      "[16:32:40] INFO: ../src/tree/updater_prune.cc:101: tree pruning end, 0 extra nodes, 2 pruned nodes, max_depth=0\n",
      "[16:32:40] INFO: ../src/gbm/gbtree.cc:138: Tree method is automatically selected to be 'approx' for distributed training.\n",
      "[16:32:40] INFO: ../src/tree/updater_prune.cc:101: tree pruning end, 0 extra nodes, 2 pruned nodes, max_depth=0\n",
      "[16:32:40] INFO: ../src/tree/updater_prune.cc:101: tree pruning end, 0 extra nodes, 4 pruned nodes, max_depth=0\n",
      "[16:32:40] INFO: ../src/tree/updater_prune.cc:101: tree pruning end, 0 extra nodes, 2 pruned nodes, max_depth=0\n",
      "[16:32:40] INFO: ../src/gbm/gbtree.cc:138: Tree method is automatically selected to be 'approx' for distributed training.\n",
      "[16:32:40] INFO: ../src/tree/updater_prune.cc:101: tree pruning end, 0 extra nodes, 2 pruned nodes, max_depth=0\n",
      "[16:32:40] INFO: ../src/tree/updater_prune.cc:101: tree pruning end, 0 extra nodes, 4 pruned nodes, max_depth=0\n",
      "[16:32:41] INFO: ../src/tree/updater_prune.cc:101: tree pruning end, 0 extra nodes, 2 pruned nodes, max_depth=0\n",
      "[16:32:41] INFO: ../src/gbm/gbtree.cc:138: Tree method is automatically selected to be 'approx' for distributed training.\n",
      "[16:32:41] INFO: ../src/tree/updater_prune.cc:101: tree pruning end, 0 extra nodes, 2 pruned nodes, max_depth=0\n",
      "[16:32:40] INFO: ../src/tree/updater_prune.cc:101: tree pruning end, 0 extra nodes, 2 pruned nodes, max_depth=0\n",
      "[16:32:40] INFO: ../src/gbm/gbtree.cc:138: Tree method is automatically selected to be 'approx' for distributed training.\n",
      "[16:32:40] INFO: ../src/tree/updater_prune.cc:101: tree pruning end, 0 extra nodes, 2 pruned nodes, max_depth=0\n",
      "[16:32:40] INFO: ../src/tree/updater_prune.cc:101: tree pruning end, 0 extra nodes, 4 pruned nodes, max_depth=0\n",
      "[16:32:40] INFO: ../src/tree/updater_prune.cc:101: tree pruning end, 0 extra nodes, 2 pruned nodes, max_depth=0\n",
      "[16:32:40] INFO: ../src/gbm/gbtree.cc:138: Tree method is automatically selected to be 'approx' for distributed training.\n",
      "[16:32:40] INFO: ../src/tree/updater_prune.cc:101: tree pruning end, 0 extra nodes, 2 pruned nodes, max_depth=0\n",
      "[16:32:40] INFO: ../src/tree/updater_prune.cc:101: tree pruning end, 0 extra nodes, 4 pruned nodes, max_depth=0\n",
      "[16:32:41] INFO: ../src/tree/updater_prune.cc:101: tree pruning end, 0 extra nodes, 2 pruned nodes, max_depth=0\n",
      "[16:32:41] INFO: ../src/gbm/gbtree.cc:138: Tree method is automatically selected to be 'approx' for distributed training.\n",
      "[16:32:41] INFO: ../src/tree/updater_prune.cc:101: tree pruning end, 0 extra nodes, 2 pruned nodes, max_depth=0\n",
      "[16:32:41] INFO: ../src/tree/updater_prune.cc:101: tree pruning end, 0 extra nodes, 4 pruned nodes, max_depth=0\n",
      "[16:32:41] INFO: ../src/tree/updater_prune.cc:101: tree pruning end, 2 extra nodes, 0 pruned nodes, max_depth=1\n",
      "[16:32:41] INFO: ../src/tree/updater_prune.cc:101: tree pruning end, 0 extra nodes, 4 pruned nodes, max_depth=0\n",
      "[16:32:41] INFO: ../src/tree/updater_prune.cc:101: tree pruning end, 2 extra nodes, 0 pruned nodes, max_depth=1\n",
      "[16:32:41] INFO: ../src/gbm/gbtree.cc:138: Tree method is automatically selected to be 'approx' for distributed training.\n",
      "[16:32:41] INFO: ../src/tree/updater_prune.cc:101: tree pruning end, 0 extra nodes, 0 pruned nodes, max_depth=0\n",
      "[16:32:41] INFO: ../src/tree/updater_prune.cc:101: tree pruning end, 0 extra nodes, 4 pruned nodes, max_depth=0\n",
      "[16:32:41] INFO: ../src/tree/updater_prune.cc:101: tree pruning end, 0 extra nodes, 2 pruned nodes, max_depth=0\n",
      "[16:32:41] INFO: ../src/gbm/gbtree.cc:138: Tree method is automatically selected to be 'approx' for distributed training.\n",
      "[16:32:41] INFO: ../src/tree/updater_prune.cc:101: tree pruning end, 0 extra nodes, 0 pruned nodes, max_depth=0\n",
      "[16:32:41] INFO: ../src/tree/updater_prune.cc:101: tree pruning end, 0 extra nodes, 4 pruned nodes, max_depth=0\n",
      "[16:32:41] INFO: ../src/tree/updater_prune.cc:101: tree pruning end, 0 extra nodes, 2 pruned nodes, max_depth=0\n",
      "\n",
      "2022-05-01 16:33:31 Completed - Training job completed\n",
      "ProfilerReport-1651422505: NoIssuesFound\n",
      "Training seconds: 276\n",
      "Billable seconds: 276\n"
     ]
    }
   ],
   "source": [
    "# Launch training job\n",
    "# We use the Estimator from the SageMaker Python SDK\n",
    "from sagemaker.session import Session\n",
    "from sagemaker.inputs import TrainingInput\n",
    "from sagemaker.xgboost.estimator import XGBoost\n",
    "\n",
    "from read_upload import Read_Upload\n",
    "\n",
    "bucket = 'abi-datalake'\n",
    "\n",
    "hyperparams = {\n",
    "    \"max_depth\": \"3\",\n",
    "    \"eta\": \"0.3\",\n",
    "    \"gamma\": \"4\",\n",
    "    \"min_child_weight\": \"6\",\n",
    "    \"subsample\": \"0.7\",\n",
    "    \"objective\": \"multi:softprob\",\n",
    "    \"num_class\": \"3\",\n",
    "    \"num_round\": \"20\",\n",
    "    \"verbosity\": \"2\",\n",
    "}\n",
    "\n",
    "instance_type = \"ml.m4.xlarge\"\n",
    "output_path = \"s3://{}/{}/\".format(bucket, \"output\")\n",
    "content_type = \"libsvm\"\n",
    "\n",
    "role = 'iam_execution_role'\n",
    "\n",
    "session = Session()\n",
    "script_path = \"script.py\"\n",
    "\n",
    "xgb_script_mode_estimator = XGBoost(\n",
    "    entry_point=script_path,\n",
    "    framework_version=\"1.5-1\",  # Note: framework_version is mandatory\n",
    "    hyperparameters=hyperparams,\n",
    "    role=role,\n",
    "    instance_count=2,\n",
    "    instance_type=instance_type,\n",
    "    output_path=output_path,\n",
    ")\n",
    "\n",
    "train_input = TrainingInput(\n",
    "    \"s3://{}/{}/\".format(bucket, \"train\"), content_type=content_type\n",
    ")\n",
    "validation_input = TrainingInput(\n",
    "    \"s3://{}/{}/\".format(bucket, \"test\"), content_type=content_type\n",
    ")\n",
    "\n",
    "xgb_script_mode_estimator.fit({\"train\": train_input, \"validation\": validation_input})\n"
   ]
  },
  {
   "cell_type": "code",
   "execution_count": 6,
   "metadata": {},
   "outputs": [
    {
     "name": "stdout",
     "output_type": "stream",
     "text": [
      "--------!"
     ]
    }
   ],
   "source": [
    "predictor = xgb_script_mode_estimator.deploy(\n",
    "    initial_instance_count=1, instance_type=\"ml.m4.xlarge\"\n",
    ")"
   ]
  },
  {
   "cell_type": "code",
   "execution_count": 7,
   "metadata": {},
   "outputs": [
    {
     "data": {
      "text/plain": [
       "b'1 0:6.1 1:2.8 2:4.7 3:1.2\\n0 0:5.7 1:3.8 2:1.7 3:0.3\\n2 0:7.7 1:2.6 2:6.9 3:2.3\\n1 0:6 1:2.9 2:4.5 3:1.5\\n1 0:6.8 1:2.8 2:4.8 3:1.4\\n0 0:5.4 1:3.4 2:1.5 3:0.4\\n1 0:5.6 1:2.9 2:3.6 3:1.3\\n2 0:6.9 1:3.1 2:5.1 3:2.3\\n1 0:6.2 1:2.2 2:4.5 3:1.5\\n1 0:5.8 1:2.7 2:3.9 3:1.2\\n2 0:6.5 1:3.2 2:5.1 3:2\\n0 0:4.8 1:3 2:1.4 3:0.1\\n0 0:5.5 1:3.5 2:1.3 3:0.2\\n0 0:4.9 1:3.1 2:1.5 3:0.1\\n0 0:5.1 1:3.8 2:1.5 3:0.3\\n1 0:6.3 1:3.3 2:4.7 3:1.6\\n2 0:6.5 1:3 2:5.8 3:2.2\\n1 0:5.6 1:2.5 2:3.9 3:1.1\\n1 0:5.7 1:2.8 2:4.5 3:1.3\\n2 0:6.4 1:2.8 2:5.6 3:2.2\\n0 0:4.7 1:3.2 2:1.6 3:0.2\\n2 0:6.1 1:3 2:4.9 3:1.8\\n0 0:5 1:3.4 2:1.6 3:0.4\\n2 0:6.4 1:2.8 2:5.6 3:2.1\\n2 0:7.9 1:3.8 2:6.4 3:2\\n2 0:6.7 1:3 2:5.2 3:2.3\\n2 0:6.7 1:2.5 2:5.8 3:1.8\\n2 0:6.8 1:3.2 2:5.9 3:2.3\\n0 0:4.8 1:3 2:1.4 3:0.3\\n0 0:4.8 1:3.1 2:1.6 3:0.2\\n'"
      ]
     },
     "execution_count": 7,
     "metadata": {},
     "output_type": "execute_result"
    }
   ],
   "source": [
    "payload_path = \"s3://{}/{}/{}\".format(bucket, \"test\", \"dtest.svm\")\n",
    "rsu = Read_Upload()\n",
    "payload = rsu.s3_read(payload_path)\n",
    "# with open('dtest.svm', \"rb\") as f:\n",
    "#     payload = f.read()\n",
    "payload"
   ]
  },
  {
   "cell_type": "code",
   "execution_count": 8,
   "metadata": {},
   "outputs": [
    {
     "name": "stdout",
     "output_type": "stream",
     "text": [
      "b'[[0.03427238389849663, 0.9300899505615234, 0.03563760593533516], [0.9395412802696228, 0.03915587067604065, 0.021302785724401474], [0.014111118391156197, 0.029557673260569572, 0.956331193447113], [0.03427238389849663, 0.9300899505615234, 0.03563760593533516], [0.03188217431306839, 0.8652240633964539, 0.10289378464221954], [0.9395412802696228, 0.03915587067604065, 0.021302785724401474], [0.03427238389849663, 0.9300899505615234, 0.03563760593533516], [0.014111118391156197, 0.029557673260569572, 0.956331193447113], [0.03427238389849663, 0.9300899505615234, 0.03563760593533516], [0.03427238389849663, 0.9300899505615234, 0.03563760593533516], [0.014111118391156197, 0.029557673260569572, 0.956331193447113], [0.9395412802696228, 0.03915587067604065, 0.021302785724401474], [0.9395412802696228, 0.03915587067604065, 0.021302785724401474], [0.9395412802696228, 0.03915587067604065, 0.021302785724401474], [0.9395412802696228, 0.03915587067604065, 0.021302785724401474], [0.033882755786180496, 0.9195162653923035, 0.046600937843322754], [0.014111118391156197, 0.029557673260569572, 0.956331193447113], [0.03427238389849663, 0.9300899505615234, 0.03563760593533516], [0.03427238389849663, 0.9300899505615234, 0.03563760593533516], [0.014111118391156197, 0.029557673260569572, 0.956331193447113], [0.9395412802696228, 0.03915587067604065, 0.021302785724401474], [0.022464333102107048, 0.1523790806531906, 0.825156569480896], [0.9395412802696228, 0.03915587067604065, 0.021302785724401474], [0.014111118391156197, 0.029557673260569572, 0.956331193447113], [0.014111118391156197, 0.029557673260569572, 0.956331193447113], [0.014111118391156197, 0.029557673260569572, 0.956331193447113], [0.014111118391156197, 0.029557673260569572, 0.956331193447113], [0.014111118391156197, 0.029557673260569572, 0.956331193447113], [0.9395412802696228, 0.03915587067604065, 0.021302785724401474], [0.9395412802696228, 0.03915587067604065, 0.021302785724401474]]'\n"
     ]
    }
   ],
   "source": [
    "\n",
    "runtime_client = session.sagemaker_runtime_client\n",
    "response = runtime_client.invoke_endpoint(\n",
    "    EndpointName=predictor.endpoint_name, ContentType=\"text/libsvm\", Body=payload\n",
    ")\n",
    "result = response[\"Body\"].read()\n",
    "\n",
    "print(result)\n"
   ]
  },
  {
   "cell_type": "code",
   "execution_count": 15,
   "metadata": {},
   "outputs": [],
   "source": [
    "payload = [6.1, 2.8, 4.7, 1.2]"
   ]
  },
  {
   "cell_type": "code",
   "execution_count": 17,
   "metadata": {},
   "outputs": [
    {
     "data": {
      "text/plain": [
       "['6.1', '2.8', '4.7', '1.2']"
      ]
     },
     "execution_count": 17,
     "metadata": {},
     "output_type": "execute_result"
    }
   ],
   "source": []
  },
  {
   "cell_type": "code",
   "execution_count": 18,
   "metadata": {},
   "outputs": [],
   "source": [
    "payload = [6.1, 2.8, 4.7, 1.2]\n",
    "payload = \",\".join([str(a) for a in payload])"
   ]
  },
  {
   "cell_type": "code",
   "execution_count": 19,
   "metadata": {},
   "outputs": [
    {
     "data": {
      "text/plain": [
       "'6.1,2.8,4.7,1.2'"
      ]
     },
     "execution_count": 19,
     "metadata": {},
     "output_type": "execute_result"
    }
   ],
   "source": [
    "payload"
   ]
  },
  {
   "cell_type": "code",
   "execution_count": 20,
   "metadata": {},
   "outputs": [
    {
     "name": "stdout",
     "output_type": "stream",
     "text": [
      "b'[[0.03427238389849663, 0.9300899505615234, 0.03563760593533516]]'\n"
     ]
    }
   ],
   "source": [
    "\n",
    "#1\n",
    "runtime_client = session.sagemaker_runtime_client\n",
    "response = runtime_client.invoke_endpoint(\n",
    "    EndpointName=predictor.endpoint_name, ContentType=\"text/csv\", Body=payload\n",
    ")\n",
    "result = response[\"Body\"].read()\n",
    "\n",
    "print(result)"
   ]
  },
  {
   "cell_type": "code",
   "execution_count": 21,
   "metadata": {},
   "outputs": [],
   "source": [
    "predictor.delete_model()\n",
    "predictor.delete_endpoint()"
   ]
  },
  {
   "cell_type": "code",
   "execution_count": 82,
   "metadata": {},
   "outputs": [],
   "source": [
    "import sm_model"
   ]
  },
  {
   "cell_type": "code",
   "execution_count": 97,
   "metadata": {},
   "outputs": [
    {
     "data": {
      "text/plain": [
       "<module 'sm_model' from '/home/ahenao/Github/ABIChallenge_alejandro&henao/sm_model.py'>"
      ]
     },
     "execution_count": 97,
     "metadata": {},
     "output_type": "execute_result"
    }
   ],
   "source": [
    "import importlib\n",
    "importlib.reload(sm_model)"
   ]
  },
  {
   "cell_type": "code",
   "execution_count": 98,
   "metadata": {},
   "outputs": [],
   "source": [
    "m = sm_model.sagemaker_xgboost()"
   ]
  },
  {
   "cell_type": "code",
   "execution_count": 99,
   "metadata": {},
   "outputs": [
    {
     "name": "stdout",
     "output_type": "stream",
     "text": [
      "---------!"
     ]
    }
   ],
   "source": [
    "m.model_deploy()"
   ]
  },
  {
   "cell_type": "code",
   "execution_count": 37,
   "metadata": {},
   "outputs": [],
   "source": [
    "r = m.model_predict([6.1, 2, 4, 2])"
   ]
  },
  {
   "cell_type": "code",
   "execution_count": 111,
   "metadata": {},
   "outputs": [
    {
     "data": {
      "text/plain": [
       "b'[[0.07268423587083817, 0.493028461933136, 0.43428730964660645]]'"
      ]
     },
     "execution_count": 111,
     "metadata": {},
     "output_type": "execute_result"
    }
   ],
   "source": [
    "r"
   ]
  },
  {
   "cell_type": "code",
   "execution_count": 57,
   "metadata": {},
   "outputs": [
    {
     "data": {
      "text/plain": [
       "[0.07268423587083817, 0.493028461933136, 0.43428730964660645]"
      ]
     },
     "execution_count": 57,
     "metadata": {},
     "output_type": "execute_result"
    }
   ],
   "source": [
    "p1 = float(''.join(c for c in str(r).split()[0] if (c.isdigit() or c =='.')))\n",
    "p2 = float(''.join(c for c in str(r).split()[1] if (c.isdigit() or c =='.')))\n",
    "p3 = float(''.join(c for c in str(r).split()[2] if (c.isdigit() or c =='.')))\n",
    "p = [p1, p2, p3]\n",
    "p"
   ]
  },
  {
   "cell_type": "code",
   "execution_count": 58,
   "metadata": {},
   "outputs": [],
   "source": [
    "m.model_cancel()"
   ]
  },
  {
   "cell_type": "code",
   "execution_count": 101,
   "metadata": {},
   "outputs": [],
   "source": [
    "import sagemaker"
   ]
  },
  {
   "cell_type": "code",
   "execution_count": 107,
   "metadata": {},
   "outputs": [
    {
     "name": "stdout",
     "output_type": "stream",
     "text": [
      "---------!"
     ]
    }
   ],
   "source": [
    "source = 's3://abi-datalake/sagemaker-xgboost-2022-05-01-20-18-16-799/source/sourcedir.tar.gz'\n",
    "model_data = 's3://abi-datalake/output/sagemaker-xgboost-2022-05-01-20-18-16-799/output/model.tar.gz'\n",
    "role = 'iam_execution_role'\n",
    "model = sagemaker.model.Model(\n",
    "    image_uri='683313688378.dkr.ecr.us-east-1.amazonaws.com/sagemaker-xgboost:1.5-1',\n",
    "    model_data=model_data,\n",
    "    role=role,\n",
    "    source_dir = source,\n",
    "    predictor_cls=sagemaker.xgboost.XGBoostPredictor)\n",
    "predictor = model.deploy(\n",
    "    initial_instance_count=1,\n",
    "    instance_type='ml.m4.xlarge'\n",
    "    )"
   ]
  },
  {
   "cell_type": "code",
   "execution_count": 108,
   "metadata": {},
   "outputs": [
    {
     "name": "stdout",
     "output_type": "stream",
     "text": [
      "b'0.07268423587083817,0.493028461933136,0.43428730964660645\\n'\n"
     ]
    }
   ],
   "source": [
    "values = [6.1, 2, 4, 2]\n",
    "values = \",\".join([str(a) for a in values])\n",
    "\n",
    "session = Session()\n",
    "runtime_client = session.sagemaker_runtime_client\n",
    "response = runtime_client.invoke_endpoint(\n",
    "EndpointName=predictor.endpoint_name, ContentType=\"text/csv\", Body=values\n",
    ")\n",
    "result = response[\"Body\"].read()\n",
    "print(result)"
   ]
  }
 ],
 "metadata": {
  "interpreter": {
   "hash": "916dbcbb3f70747c44a77c7bcd40155683ae19c65e1c03b4aa3499c5328201f1"
  },
  "kernelspec": {
   "display_name": "Python 3.8.10 64-bit",
   "language": "python",
   "name": "python3"
  },
  "language_info": {
   "codemirror_mode": {
    "name": "ipython",
    "version": 3
   },
   "file_extension": ".py",
   "mimetype": "text/x-python",
   "name": "python",
   "nbconvert_exporter": "python",
   "pygments_lexer": "ipython3",
   "version": "3.9.5"
  },
  "orig_nbformat": 4
 },
 "nbformat": 4,
 "nbformat_minor": 2
}
